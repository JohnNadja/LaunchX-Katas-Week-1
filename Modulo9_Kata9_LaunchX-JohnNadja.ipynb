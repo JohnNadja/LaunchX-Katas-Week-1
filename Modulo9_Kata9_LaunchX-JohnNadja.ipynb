{
  "cells": [
    {
      "cell_type": "markdown",
      "metadata": {},
      "source": [
        "# Ejercicio: Uso de funciones en Python"
      ]
    },
    {
      "cell_type": "markdown",
      "metadata": {},
      "source": [
        "### Ejercicio 1: Trabajar con argumentos en funciones\n",
        "\n",
        "Los argumentos requeridos en las funciones se utilizan cuando las funciones necesitan que esos argumentos funcionen correctamente. En este ejercicio, construirás un informe de combustible que requiere información de varias ubicaciones de combustible en todo el cohete.\n",
        "\n"
      ]
    },
    {
      "cell_type": "markdown",
      "metadata": {},
      "source": [
        "> **TIP**\n",
        "> Dedica unos minutos para tratar de encontrar una solución. Luego desplázate hacia abajo hasta la parte inferior para ver si has logrado compilar el programa de acuerdo con las especificaciones\n",
        "\n",
        "Comienza por crear una función que necesite tres lecturas de combustible y devuelva un informe:"
      ]
    },
    {
      "cell_type": "code",
      "execution_count": 4,
      "metadata": {},
      "outputs": [],
      "source": [
        "# Función para leer 3 tanques de combustible y muestre el promedio\n",
        "def inf_combustible (tanque_general, tanque_hidrogeno, tanque_oxigeno):\n",
        "    total_tanque = (tanque_general + tanque_hidrogeno + tanque_oxigeno) / 3\n",
        "    return f'''Los datos en total de los tanques son: Promedio de tanque: {round(total_tanque)}%, el Tanque general \n",
        "contiene {tanque_general}%, mientras que el tanque de hidógero {tanque_hidrogeno}% y por último, pero no menos \n",
        "importante, el tanque de oxígeno tiene niveles de {tanque_oxigeno}%. Suerte cadete🚀\n",
        "'''"
      ]
    },
    {
      "cell_type": "markdown",
      "metadata": {},
      "source": [
        "Ahora que hemos definido la función de informes, vamos a comprobarlo. Para esta misión, los tanques no están llenos:"
      ]
    },
    {
      "cell_type": "code",
      "execution_count": 5,
      "metadata": {},
      "outputs": [
        {
          "name": "stdout",
          "output_type": "stream",
          "text": [
            "Los datos en total de los tanques son: Promedio de tanque: 74%, el Tanque general \n",
            "contiene 51%, mientras que el tanque de hidógero 76% y por último, pero no menos \n",
            "importante, el tanque de oxígeno tiene niveles de 94%. Suerte cadete🚀\n",
            "\n"
          ]
        }
      ],
      "source": [
        "\n",
        "# Llamamos a la función que genera el reporte print(funcion(tanque1, tanque2, tanque3))\n",
        "print(inf_combustible(51,76,94))"
      ]
    },
    {
      "cell_type": "markdown",
      "metadata": {},
      "source": [
        "En lugar de simplemente crear el informe, la función también está calculando el promedio. Mejora la legibilidad extrayendo el cálculo promedio de la función en una nueva función para que el promedio se pueda hacer de forma independiente:"
      ]
    },
    {
      "cell_type": "code",
      "execution_count": 11,
      "metadata": {},
      "outputs": [
        {
          "data": {
            "text/plain": [
              "'74%'"
            ]
          },
          "execution_count": 11,
          "metadata": {},
          "output_type": "execute_result"
        }
      ],
      "source": [
        "# Función promedio \n",
        "def prom(valTank):\n",
        "    suma = sum(valTank)\n",
        "    num_tanques = len (valTank)\n",
        "    return f'{round(suma / num_tanques)}%'\n",
        "\n",
        "#Ejemplo:\n",
        "prom([51,76,94])"
      ]
    },
    {
      "cell_type": "markdown",
      "metadata": {},
      "source": [
        "Ahora actualiza la función de informes para llamando a la nueva función del promedio:\n"
      ]
    },
    {
      "cell_type": "code",
      "execution_count": 13,
      "metadata": {},
      "outputs": [
        {
          "name": "stdout",
          "output_type": "stream",
          "text": [
            "Los datos en total de los tanques son: Promedio de tanque: 74%, el Tanque general \n",
            "contiene 51%, mientras que el tanque de hidógero 76% y por último, pero no menos \n",
            "importante, el tanque de oxígeno tiene niveles de 94%. Suerte cadete🚀\n",
            "\n"
          ]
        }
      ],
      "source": [
        "# Actualiza la función\n",
        "def inf_combustible (tanque_general, tanque_hidrogeno, tanque_oxigeno):\n",
        "    return f'''Los datos en total de los tanques son: Promedio de tanque: {prom([tanque_general, tanque_hidrogeno, tanque_oxigeno])}, el Tanque general \n",
        "contiene {tanque_general}%, mientras que el tanque de hidógero {tanque_hidrogeno}% y por último, pero no menos \n",
        "importante, el tanque de oxígeno tiene niveles de {tanque_oxigeno}%. Suerte cadete🚀\n",
        "'''\n",
        "print(inf_combustible(51,76,94))"
      ]
    },
    {
      "cell_type": "markdown",
      "metadata": {},
      "source": [
        "> Recuerda: Lo importante es intentarlo, puedes auxiliarte de internet, libros, etc. El objetivo de una kata es la comprobación de la comprensión de la lección y su aplicación inmediata a la resolución de problemas. Go for it!"
      ]
    },
    {
      "cell_type": "markdown",
      "metadata": {},
      "source": [
        "## Ejercicio 2: Trabajo con argumentos de palabra clave"
      ]
    },
    {
      "cell_type": "markdown",
      "metadata": {},
      "source": [
        "### Ejercicio : Trabajar con argumentos de palabras clave en funciones\n",
        "En este ejercicio, construirás un informe de cohete que requiere varias piezas de información, como el tiempo hasta el destino, el combustible a la izquierda y el nombre del destino. Comienza por crear una función que creará un informe preciso de la misión:"
      ]
    },
    {
      "cell_type": "code",
      "execution_count": 14,
      "metadata": {},
      "outputs": [
        {
          "name": "stdout",
          "output_type": "stream",
          "text": [
            "Registro de misión a: Marte, con una duración de: 90.3 \n",
            "minutos y un tanque de: 450000 galones\n",
            "\n"
          ]
        }
      ],
      "source": [
        "# Función con un informe preciso de la misión. Considera hora de prelanzamiento, tiempo de vuelo, destino, tanque externo y tanque interno\n",
        "def inf_cohete (hora_prelaunch, tiempo_vuelo, destino, tanque_externo, tanque_interno):\n",
        "    return f'''Registro de misión a: {destino}, con una duración de: {(hora_prelaunch/60)  + tiempo_vuelo} \n",
        "minutos y un tanque de: {tanque_externo + tanque_interno} galones\n",
        "'''\n",
        "\n",
        "print(inf_cohete(18, 90, 'Marte',300000, 150000))"
      ]
    },
    {
      "cell_type": "markdown",
      "metadata": {},
      "source": [
        "La función es problemática porque no se puede adaptar para minutos adicionales o tanques adicionales de combustible. Hazlo más flexible permitiendo cualquier número de pasos basados en el tiempo y cualquier número de tanques. En lugar de usar `*args` y `**kwargs`, aprovecha el hecho de que puedes usar cualquier nombre que desees. Asegurate que la función sea más legible mediante el uso de nombres de variables que están asociados con las entradas, como `*minutes` y `**fuel_reservoirs`:"
      ]
    },
    {
      "cell_type": "code",
      "execution_count": 15,
      "metadata": {},
      "outputs": [
        {
          "name": "stdout",
          "output_type": "stream",
          "text": [
            "Registro de misión a: Marte, con tiempo total de viaje de 77 minutos y\n",
            "combutible de los tanques disponible de: 1280000\n",
            "\n"
          ]
        }
      ],
      "source": [
        "# Escribe tu nueva función de reporte considerando lo anterior\n",
        "def inf_cohete ( destino,*minutos, **tanques_reservas):\n",
        "    return f'''Registro de misión a: {destino}, con tiempo total de viaje de {sum(minutos)} minutos y\n",
        "combutible de los tanques disponible de: {sum(tanques_reservas.values())}\n",
        "'''\n",
        "\n",
        "print(inf_cohete(\"Marte\",30,23,24, principal=40000, interno=1240000))"
      ]
    },
    {
      "cell_type": "markdown",
      "metadata": {},
      "source": [
        "Debido a que el combustible que queda en los tanques es específico de cada tanque, actualiza la función para usar el nombre de cada tanque en el informe:"
      ]
    },
    {
      "cell_type": "code",
      "execution_count": 19,
      "metadata": {},
      "outputs": [
        {
          "name": "stdout",
          "output_type": "stream",
          "text": [
            "Registro de misión a: Marte, con tiempo total de viaje de 77 minutos y\n",
            "combutible de los tanques disponible de: 1280000\n",
            "principal tanque contiene: 40000 galones disponibles.\n",
            "\n"
          ]
        }
      ],
      "source": [
        "# Escribe tu nueva función\n",
        "# Escribe tu nueva función de reporte considerando lo anterior\n",
        "def inf_cohete ( destino,*minutos, **tanques_reservas):\n",
        "    informacion = f'''Registro de misión a: {destino}, con tiempo total de viaje de {sum(minutos)} minutos y\n",
        "combutible de los tanques disponible de: {sum(tanques_reservas.values())}\n",
        "'''\n",
        "    for nombre_tanque, galon in tanques_reservas.items(): \n",
        "        informacion += f\"{nombre_tanque} tanque contiene: {galon} galones disponibles\\n\"\n",
        "        return informacion\n",
        "        \n",
        "print(inf_cohete(\"Marte\",30,23,24, principal=40000, interno=1240000))   "
      ]
    }
  ],
  "metadata": {
    "interpreter": {
      "hash": "205095b8b86ea82a021a8fc2ffba2b3bc9f8d0be25999901963b225939f75778"
    },
    "kernelspec": {
      "display_name": "Python 3.8.10 64-bit ('tmp': conda)",
      "name": "python3"
    },
    "language_info": {
      "codemirror_mode": {
        "name": "ipython",
        "version": 3
      },
      "file_extension": ".py",
      "mimetype": "text/x-python",
      "name": "python",
      "nbconvert_exporter": "python",
      "pygments_lexer": "ipython3",
      "version": "3.9.6"
    },
    "nteract": {
      "version": "nteract-front-end@1.0.0"
    },
    "orig_nbformat": 4
  },
  "nbformat": 4,
  "nbformat_minor": 2
}
