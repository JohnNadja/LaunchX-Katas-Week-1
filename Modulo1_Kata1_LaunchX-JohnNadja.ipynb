{
 "cells": [
  {
   "cell_type": "markdown",
   "metadata": {},
   "source": [
    "# Ejercicios"
   ]
  },
  {
   "cell_type": "markdown",
   "metadata": {},
   "source": [
    "## Fecha de Hoy"
   ]
  },
  {
   "cell_type": "code",
   "execution_count": 1,
   "metadata": {},
   "outputs": [
    {
     "name": "stdout",
     "output_type": "stream",
     "text": [
      "Que tenga un buen viaje\n"
     ]
    }
   ],
   "source": [
    "from datetime import date\n",
    "fechaHoy = str(date.today())\n",
    "\n",
    "# print(\"Today's date is: \", fechaHoy)\n",
    "\n",
    "respuesta = input(\"Bienvenido tripulante, ¿desea saber la fecha del día de hoy? (Si / No): \")\n",
    "if respuesta == \"Si\":\n",
    "    print(\"Today's date is: \", fechaHoy)\n",
    "else:\n",
    "    if respuesta == \"No\":\n",
    "        print(\"Que tenga un buen viaje\")\n"
   ]
  },
  {
   "cell_type": "markdown",
   "metadata": {},
   "source": [
    "## Convertidor de unidades"
   ]
  },
  {
   "cell_type": "code",
   "execution_count": 24,
   "metadata": {},
   "outputs": [
    {
     "name": "stdout",
     "output_type": "stream",
     "text": [
      "Covnersion of: 15 parsec, is 48.923399999999994 lightyears\n"
     ]
    }
   ],
   "source": [
    "#parsec = 11\n",
    "dato = (int(input(\"Introduzca la cantidad (número) de parsecs a convertir en años luz: \")))\n",
    "parsec = dato\n",
    "lightyears = 3.26156 * parsec\n",
    "\n",
    "print(\"Covnersion of: \" + str(parsec) + \" parsec, is \" + str(lightyears) + \" lightyears\")"
   ]
  }
 ],
 "metadata": {
  "interpreter": {
   "hash": "c0a790ca4d9b769c1849bc51b7dad797a1bcf8d219400fe483ef9642fb39fe4c"
  },
  "kernelspec": {
   "display_name": "Python 3.9.6 64-bit",
   "language": "python",
   "name": "python3"
  },
  "language_info": {
   "codemirror_mode": {
    "name": "ipython",
    "version": 3
   },
   "file_extension": ".py",
   "mimetype": "text/x-python",
   "name": "python",
   "nbconvert_exporter": "python",
   "pygments_lexer": "ipython3",
   "version": "3.9.6"
  },
  "orig_nbformat": 4
 },
 "nbformat": 4,
 "nbformat_minor": 2
}
