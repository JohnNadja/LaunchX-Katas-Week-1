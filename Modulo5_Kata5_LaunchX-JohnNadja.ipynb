{
 "cells": [
  {
   "cell_type": "markdown",
   "metadata": {},
   "source": [
    "# Ejercicios"
   ]
  },
  {
   "cell_type": "markdown",
   "metadata": {},
   "source": [
    "## 1: Utilizar operadores ariméticos"
   ]
  },
  {
   "cell_type": "code",
   "execution_count": 1,
   "metadata": {},
   "outputs": [],
   "source": [
    "#Crear variables para almacenar los datos\n",
    "disTierra = 149597870\n",
    "disJupiter = 778547200"
   ]
  },
  {
   "cell_type": "code",
   "execution_count": 2,
   "metadata": {},
   "outputs": [
    {
     "name": "stdout",
     "output_type": "stream",
     "text": [
      "La distancia que existe entre la Tierra (149597870 km) y Jupiter (778547200 km) es de: 390577533.93 millas, o 628949330.0 km\n"
     ]
    }
   ],
   "source": [
    "difPlanetas = (disJupiter - disTierra) * 0.621\n",
    "print(f\"La distancia que existe entre la Tierra ({disTierra} km) y Jupiter ({disJupiter} km) es de: {difPlanetas} millas, o {difPlanetas / 0.621} km\")"
   ]
  },
  {
   "cell_type": "code",
   "execution_count": 3,
   "metadata": {},
   "outputs": [
    {
     "name": "stdout",
     "output_type": "stream",
     "text": [
      "La distancia entre Venus con 108200000 km de distancia al Sol, y Jupiter con 778600000 km de distancia al Sol es: 416318400.0 millas, o 670400000.0 km\n"
     ]
    }
   ],
   "source": [
    "## 2: Conversión cadenas en números y valores absolutos\n",
    "nombreP1= input(\"Cómo se llama el primer planeta a calcular?: \")\n",
    "nombreP2= input(\"Cómo se llama el segundo planeta a calcular?: \")\n",
    "Planeta1 = input(\"¿Cuál es la distancia de tu primer planeta? (en km, omite comillas): \")\n",
    "Planeta2 = input(\"¿Cuál es la distancia de tu segundo planeta? (en km, omite comillas): \")\n",
    "\n",
    "Planeta1 = (int(Planeta1))\n",
    "Planeta2 = (int(Planeta2))\n",
    "\n",
    "distPlaneta = (abs(Planeta2 - Planeta1) * 0.621)\n",
    "\n",
    "print (f'''La distancia entre {nombreP1} con {Planeta1} km de distancia al Sol, y {nombreP2} con {Planeta2} km de distancia al Sol es: {distPlaneta} millas, o {distPlaneta / 0.621} km''')\n"
   ]
  }
 ],
 "metadata": {
  "interpreter": {
   "hash": "c0a790ca4d9b769c1849bc51b7dad797a1bcf8d219400fe483ef9642fb39fe4c"
  },
  "kernelspec": {
   "display_name": "Python 3.9.6 64-bit",
   "language": "python",
   "name": "python3"
  },
  "language_info": {
   "codemirror_mode": {
    "name": "ipython",
    "version": 3
   },
   "file_extension": ".py",
   "mimetype": "text/x-python",
   "name": "python",
   "nbconvert_exporter": "python",
   "pygments_lexer": "ipython3",
   "version": "3.9.6"
  },
  "orig_nbformat": 4
 },
 "nbformat": 4,
 "nbformat_minor": 2
}
