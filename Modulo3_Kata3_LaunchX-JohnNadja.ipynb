{
 "cells": [
  {
   "cell_type": "markdown",
   "metadata": {},
   "source": [
    "# Ejercicios"
   ]
  },
  {
   "cell_type": "markdown",
   "metadata": {},
   "source": [
    "## Ateroide, parte 1 (if, else)"
   ]
  },
  {
   "cell_type": "code",
   "execution_count": 1,
   "metadata": {},
   "outputs": [
    {
     "name": "stdout",
     "output_type": "stream",
     "text": [
      "Advertencia, asteroride acercándose a la Tierra a más de 49 km/s\n"
     ]
    }
   ],
   "source": [
    "velAster1 = 49 \n",
    "advertencia = 25\n",
    "\n",
    "if velAster1 > advertencia:\n",
    "    print(\"Advertencia, asteroride acercándose a la Tierra a más de 49 km/s\")\n",
    "else:\n",
    "    print(\"No hay peligro, ser civil terrestre\")\n",
    "   "
   ]
  },
  {
   "cell_type": "markdown",
   "metadata": {},
   "source": [
    "## Ateroide, parte 2 (if, else)"
   ]
  },
  {
   "cell_type": "code",
   "execution_count": 2,
   "metadata": {},
   "outputs": [
    {
     "name": "stdout",
     "output_type": "stream",
     "text": [
      "No hay peligro, ser civil terrestre\n"
     ]
    }
   ],
   "source": [
    "velAster2 = 19\n",
    "if velAster2 > advertencia:\n",
    "    print(\"Advertencia, asteroride acercándose a la Tierra a más de 49 km/s\")\n",
    "else:\n",
    "    print(\"No hay peligro, ser civil terrestre\")"
   ]
  },
  {
   "cell_type": "markdown",
   "metadata": {},
   "source": [
    "## Asteroide, parte 3 (if, else, elif, and, or)"
   ]
  },
  {
   "cell_type": "code",
   "execution_count": 6,
   "metadata": {},
   "outputs": [
    {
     "name": "stdout",
     "output_type": "stream",
     "text": [
      "Que no cunda el pánico, el gobierno ya envió una sonda espacial para perforar y destruir el asteroide 🎆\n"
     ]
    }
   ],
   "source": [
    "velAster3 = 150 #limite para adverencia = 25\n",
    "tamAster3 = 20 #límite para adevertencia = 25\n",
    "advVel = 20\n",
    "advTam = 25\n",
    "\n",
    "if tamAster3 > advTam and velAster3 > advVel:\n",
    "    print(\"¡Advertencia, asteroride acercándose a la Tierra! 💀☄\")\n",
    "elif tamAster3 < advTam:\n",
    "    print(\"Que no cunda el pánico, el gobierno ya envió una sonda espacial para perforar y destruir el asteroide 🎆\")\n",
    "    \n",
    "elif velAster3 >= advVel:\n",
    "    print(\"Pide un deseo, es una estrella fugaz 🌠\")\n",
    "\n",
    "else:\n",
    "    print(\"Aquí no hay peligro 😁\")"
   ]
  }
 ],
 "metadata": {
  "interpreter": {
   "hash": "c0a790ca4d9b769c1849bc51b7dad797a1bcf8d219400fe483ef9642fb39fe4c"
  },
  "kernelspec": {
   "display_name": "Python 3.9.6 64-bit",
   "language": "python",
   "name": "python3"
  },
  "language_info": {
   "codemirror_mode": {
    "name": "ipython",
    "version": 3
   },
   "file_extension": ".py",
   "mimetype": "text/x-python",
   "name": "python",
   "nbconvert_exporter": "python",
   "pygments_lexer": "ipython3",
   "version": "3.9.6"
  },
  "orig_nbformat": 4
 },
 "nbformat": 4,
 "nbformat_minor": 2
}
